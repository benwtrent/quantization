{
 "cells": [
  {
   "cell_type": "code",
   "execution_count": 65,
   "metadata": {},
   "outputs": [],
   "source": [
    "import pyarrow.parquet as pq\n",
    "import numpy as np\n",
    "\n",
    "# Load the data\n",
    "tb1 = pq.read_table('data/3-ja.parquet', columns=['emb'])\n",
    "table = tb1[0].to_numpy()\n",
    "flat_ds = list()\n",
    "for vec in table:\n",
    "    flat_ds.append(vec)\n",
    "np_flat_ds = np.array(flat_ds)\n",
    "table = np_flat_ds"
   ]
  },
  {
   "cell_type": "code",
   "execution_count": 66,
   "metadata": {},
   "outputs": [],
   "source": [
    "docs = table[0:-1_000]\n",
    "queries = table[-1_000:]"
   ]
  },
  {
   "cell_type": "code",
   "execution_count": 138,
   "metadata": {},
   "outputs": [],
   "source": [
    "def quant_size_steps_universal(docs, quantiles):\n",
    "    ranges = np.vstack((np.quantile(docs, quantiles[0]), np.quantile(docs, quantiles[1])))\n",
    "    starts = np.full(768, ranges[0])\n",
    "    steps = np.full(768, (ranges[1] - ranges[0]) / 255)\n",
    "    return (starts, steps)\n",
    "\n",
    "def quant_size_steps_universal_min_max(docs):\n",
    "    ranges = np.vstack((np.min(docs), np.max(docs)))\n",
    "    starts = np.full(768, ranges[0])\n",
    "    steps = np.full(768, (ranges[1] - ranges[0]) / 255)\n",
    "    return (starts, steps)\n",
    "\n",
    "def quant_size_steps(docs, quantiles):\n",
    "    ranges = np.vstack((np.quantile(docs, quantiles[0], axis=0), np.quantile(docs, quantiles[1], axis=0)))\n",
    "    starts = ranges[0,:]\n",
    "    steps = (ranges[1,:] - ranges[0,:]) / 255\n",
    "    return (starts, steps)\n",
    "\n",
    "def quant_size_steps_min_max(docs):\n",
    "    ranges = np.vstack((np.min(docs, axis=0), np.max(docs, axis=0)))\n",
    "    starts = ranges[0,:]\n",
    "    steps = (ranges[1,:] - ranges[0,:]) / 255\n",
    "    return (starts, steps)\n",
    "\n",
    "def quantize(docs, starts, steps):\n",
    "    return np.uint8((docs - starts) / steps)\n",
    "\n",
    "def find_k_nearest_neighbors_dot(queries, docs, k=10):\n",
    "    dot_product = -np.dot(queries, docs.T)  # Shape: (num_queries, num_docs)\n",
    "    partitioned =  np.argpartition(dot_product, kth=k-1, axis=1)[:, :k] \n",
    "    return np.take_along_axis(partitioned, np.take_along_axis(dot_product, partitioned, axis=1).argsort(axis=1), axis=1)\n",
    "\n",
    "def calculate_recall_overlap(baseline_knn, candidate_knn):\n",
    "    # this calculates the average overlap between the baseline and candidate knn\n",
    "    # for each query\n",
    "    overlap = np.zeros(baseline_knn.shape[0])\n",
    "    for i in range(baseline_knn.shape[0]):\n",
    "        overlap[i] = len(np.intersect1d(baseline_knn[i], candidate_knn[i])) / baseline_knn.shape[1]\n",
    "    return np.mean(overlap)\n",
    "\n",
    "def calculate_recall_overlap_for_quantized(baseline_knns, ks, quant_starts, quant_steps, queries, docs):\n",
    "    quantized_queries = quantize(queries, quant_starts, quant_steps)\n",
    "    quantized_docs = quantize(docs, quant_starts, quant_steps)\n",
    "    for k in ks:\n",
    "        quantized_baseline_knn = find_k_nearest_neighbors_dot(quantized_queries, quantized_docs, k)\n",
    "        print(k, calculate_recall_overlap(baseline_knns, quantized_baseline_knn))\n"
   ]
  },
  {
   "cell_type": "code",
   "execution_count": 135,
   "metadata": {},
   "outputs": [],
   "source": [
    "baseline_knns = find_k_nearest_neighbors_dot(queries, docs, k=5) \n",
    "ks = [5, 10, 20, 50, 100, 200, 500, 1000]"
   ]
  },
  {
   "cell_type": "code",
   "execution_count": 144,
   "metadata": {},
   "outputs": [],
   "source": [
    "test_cases = [\n",
    "    {\"name\": \"quantization_min_max_total\", \"value\": quant_size_steps_universal_min_max(docs)},\n",
    "    {\"name\": \"quantization_min_max\", \"value\": quant_size_steps_min_max(docs)},\n",
    "    {\"name\": \"quantization_total_99\", \"value\": quant_size_steps_universal(docs, [0.01, 0.99])},\n",
    "    {\"name\": \"quantization_99\", \"value\": quant_size_steps(docs, [0.01, 0.99])},\n",
    "    {\"name\": \"quantization_total_90\", \"value\": quant_size_steps_universal(docs, [0.1, 0.90])},\n",
    "    {\"name\": \"quantization_90\", \"value\": quant_size_steps(docs, [0.1, 0.90])},\n",
    "]"
   ]
  },
  {
   "cell_type": "code",
   "execution_count": 145,
   "metadata": {},
   "outputs": [
    {
     "name": "stdout",
     "output_type": "stream",
     "text": [
      "quantization_min_max_total\n",
      "10 0.0\n",
      "50 0.0002\n",
      "100 0.0008\n",
      "1000 0.0074\n",
      "quantization_min_max\n",
      "10 0.0002\n",
      "50 0.0004\n",
      "100 0.0006000000000000001\n",
      "1000 0.007200000000000001\n",
      "quantization_total_99\n",
      "10 0.0\n",
      "50 0.0002\n",
      "100 0.0006000000000000001\n",
      "1000 0.007\n",
      "quantization_99\n",
      "10 0.0002\n",
      "50 0.0002\n",
      "100 0.0006000000000000001\n",
      "1000 0.0058000000000000005\n",
      "quantization_total_90\n",
      "10 0.0\n",
      "50 0.0004\n",
      "100 0.0008\n",
      "1000 0.0094\n",
      "quantization_90\n",
      "10 0.0002\n",
      "50 0.0004\n",
      "100 0.0006000000000000001\n",
      "1000 0.01\n"
     ]
    }
   ],
   "source": [
    "for test_case in test_cases:\n",
    "    print(test_case[\"name\"])\n",
    "    (starts, steps) = test_case[\"value\"]\n",
    "    calculate_recall_overlap_for_quantized(baseline_knns, ks, starts, steps, queries, docs)"
   ]
  },
  {
   "cell_type": "code",
   "execution_count": 140,
   "metadata": {},
   "outputs": [
    {
     "name": "stdout",
     "output_type": "stream",
     "text": [
      "10 0.0002\n",
      "50 0.0004\n",
      "100 0.0006000000000000001\n",
      "1000 0.007200000000000001\n"
     ]
    }
   ],
   "source": [
    "(min_max_starts, min_max_step) = quant_size_steps_min_max(docs)\n",
    "calculate_recall_overlap_for_quantized(baseline_knns, ks, min_max_starts, min_max_step, queries, docs)"
   ]
  }
 ],
 "metadata": {
  "kernelspec": {
   "display_name": "venv",
   "language": "python",
   "name": "python3"
  },
  "language_info": {
   "codemirror_mode": {
    "name": "ipython",
    "version": 3
   },
   "file_extension": ".py",
   "mimetype": "text/x-python",
   "name": "python",
   "nbconvert_exporter": "python",
   "pygments_lexer": "ipython3",
   "version": "3.10.10"
  },
  "orig_nbformat": 4
 },
 "nbformat": 4,
 "nbformat_minor": 2
}
